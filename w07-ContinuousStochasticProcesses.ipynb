{
 "cells": [
  {
   "cell_type": "markdown",
   "id": "1325bb9c-0caa-40e5-9ea8-dafe4a7a519b",
   "metadata": {},
   "source": [
    "# Continous stochastic processes"
   ]
  },
  {
   "cell_type": "markdown",
   "id": "b0885810-67b2-4596-835b-087d8faec3f8",
   "metadata": {},
   "source": [
    "## Random Walks in one dimensions\n",
    "\n",
    "Consider a random walk in continuous time in which the walker hopes right or left a distance $\\delta x$ with rates $r$ and $l$. Rates have the dimension 1/time and products of rates and time intervals are dimensionless. The probability that the particle hops right in a small time interval $\\Delta t$ is therefore $r\\Delta t$. With probability $1-(r+l)\\Delta t$ nothing happens.\n",
    "\n",
    "![image.png](figures/RW_distribution_1d.png)\n",
    "\n",
    "A discrete time equation describing the probability distribution then becomes\n",
    "\n",
    "$$\n",
    "\\frac{\\partial P(x|t)}{\\partial t} = r \\left[P(x-\\delta x|t) - P(x|t)\\right] + l \\left[P(x+\\delta x|t) - P(x|t)\\right]\n",
    "$$"
   ]
  },
  {
   "cell_type": "markdown",
   "id": "b507e62e-2913-4029-afed-e133f866e4d3",
   "metadata": {},
   "source": [
    "We want to treat $P(x|t)$ as a continuous function of $x$ and consider smaller and smaller $\\delta x$. Once $\\delta x$ is small enough, we can approximate $P(x\\pm \\delta x|t)$ by its [Taylor series](https://en.wikipedia.org/wiki/Taylor_series)\n",
    "\n",
    "$$\n",
    "P(x\\pm \\delta x|t) = P(x|t) \\pm \\delta x \\frac{\\partial P(x|t)}{\\partial x} + \\frac{\\delta x^2}{2} \\frac{\\partial^2 P(x|t)}{\\partial x^2} + \\cdots\n",
    "$$\n",
    "\n",
    "Before substituting this into the above equation, not that all terms proportional to $P(x|t)$ disappear. \n",
    "Further note that the left/right terms proportional to $\\frac{\\partial P(x|t)}{\\partial x}$ have opposite signs, while those proportional to $\\frac{\\partial^2 P(x|t)}{\\partial x^2}$ have the same sign. \n",
    "\n",
    "This then combines to the following expression\n",
    "\n",
    "$$\n",
    "\\frac{\\partial P(x|t)}{\\partial t} = (r+l)\\frac{\\delta x^2 }{2}\\frac{\\partial^2 P(x|t)}{\\partial x^2} + (l-r)\\delta x \\frac{\\partial P(x|t)}{\\partial x}\n",
    "$$"
   ]
  },
  {
   "cell_type": "markdown",
   "id": "90abbea4-c09e-4e6d-af65-b787770cf778",
   "metadata": {},
   "source": [
    "Now remember that $r$ and $l$ were the rate at which the particle hops left or right a distance $\\delta x$. Now that we are changing $\\delta x$ and considering the limit of smaller and smaller $\\delta x$, we need to adjust $r$ and $l$. \n",
    "Ultimately, we want a description that does not depend on the arbitrary choice of $\\delta x$ we have made and we have to realize that $r$ and $s$ were just auxillary quantities tied to the discretization.\n",
    "Defining the diffusion constant $D$ and the velocity $v$ as\n",
    "\n",
    "$$\n",
    "D = \\frac{(r+l)\\delta x^2}{2} \\quad \\mathrm{and}\\quad v = (r-l)\\delta x\n",
    "$$\n",
    "\n",
    "we obtain the diffusion equation\n",
    "\n",
    "$$\n",
    "\\frac{\\partial P(x|t)}{\\partial t} = D\\frac{\\partial^2 P(x|t)}{\\partial x^2} - v\\frac{\\partial P(x|t)}{\\partial x}\n",
    "$$\n",
    "\n",
    "Note that the rate $r$ and $l$ we initially defined are rates and have units of 1/time. The diffusion constant therefore has units $\\mathrm{length}^2/\\mathrm{time}$ and the velocity $v$ has units of $\\mathrm{length}/\\mathrm{time}$."
   ]
  },
  {
   "cell_type": "markdown",
   "id": "f7e74ff0-ddc9-4708-8dd7-3ddbf8aabc3e",
   "metadata": {},
   "source": [
    "### Gaussian solution\n",
    "The most well known solution to the diffusion equation is the Gaussian solution, which describes the probability distribution at time $t$ in an infinite domain, if all probability was concentrated at $x=0$ at $t=0$ ($P(x,0) = \\delta(x)$. \n",
    "$$\n",
    "P(x|t) = \\frac{1}{\\sqrt{4\\pi Dt}}e^{-\\frac{(x-vt)^2}{4Dt}}\n",
    "$$\n",
    "The solution is then described by a Gaussian centered on $vt$ with variance $2Dt$. In case of simple isotropic diffusion, this generalizes to higher dimensions as $P(\\mathbf{x},t) = P(x,t)P(y,t)P(z,t)$. \n"
   ]
  },
  {
   "cell_type": "markdown",
   "id": "84517bf4-0511-4b9b-afca-f570c1fc3150",
   "metadata": {},
   "source": [
    "### Conservation of probability and fluxes\n",
    "With reflecting boundaries and in absence of \"reaction\", the diffusion equation has to conserve probability:\n",
    "$$\n",
    "\\int dx\\; \\frac{\\partial P(x,t)}{\\partial t} = 0\n",
    "$$\n",
    "This constraint can be reformulated as a continuity equation (divergence theorem/Gauss' law)\n",
    "$$\n",
    "\\frac{\\partial P(x,t)}{\\partial t} = -\\nabla \\cdot \\mathbf{j}\n",
    "$$\n",
    "where the right hand side is the divergence of the probability flux $\\mathbf{j}$. In one dimension, this simplifies to \n",
    "$$\n",
    "\\frac{\\partial P(x,t)}{\\partial t} = -\\frac{\\partial}{\\partial x} j(x)\n",
    "$$\n",
    "which defines the diffusive flux as \n",
    "$$\n",
    "j(x,t) = - \\frac{\\partial}{\\partial x}D(x)  P(x,t) + v(x) P(x,t)\n",
    "$$"
   ]
  },
  {
   "cell_type": "markdown",
   "id": "51b56f14-31e7-4aa3-9802-35c8c145da26",
   "metadata": {},
   "source": [
    "### Solution in a bounded domain\n",
    "Typically, one considers diffusion in a domain with absorbing or reflecting boundaries. \n",
    "\n",
    " * reflecting: impenetrable wall. Zero probability flux at the boundary.\n",
    " * absorbing: everything that passes the boundary is removed. Requires $D(x)P(x)=0$ at the boundary.\n",
    " \n",
    "![image.png](figures/diffusion_boundary.png)\n",
    "\n",
    "In this case, the typical path to an analytic solution is via separation of variables, i.e. we are looking for solutions of the form $P(x,t) = f(x)g(t)$. Plugging this ansatz into the diffusion equation, and dividing by $P(x,t)$, we find\n",
    "$$\n",
    "\\frac{1}{g(t)}\\frac{\\partial g(t)}{\\partial t} = \\frac{D}{f(x)}\\frac{\\partial^2 f(x)}{\\partial x^2} - \\frac{v}{f(x)}\\frac{\\partial f(x)}{\\partial x}\n",
    "$$\n",
    "Since the left hand side depends only on $t$, and the right hand side only on $x$, both sides have to be constant $-\\lambda$. For $g(t)$, this corresponds to a simple exponential decay:\n",
    "$$\n",
    "g(t) = ae^{-\\lambda t} \n",
    "$$\n",
    "For $f(x)$, we need to solve $D\\frac{\\partial^2 f(x)}{\\partial^2 x} - v\\frac{\\partial f(x)}{\\partial x} + \\lambda f(x)$ for which we can make an exponential ansatz $f(x) = e^{\\alpha x}$. The equation then becomes\n",
    "$$\n",
    "\\left(\\alpha^2 - \\frac{v}{D}\\alpha + \\lambda \\right) f(x) = 0\n",
    "$$\n",
    "from which we deduce that \n",
    "$$\n",
    "\\alpha = \\frac{v}{2D} \\pm \\sqrt{\\frac{v^2}{4D^2} - \\frac{\\lambda}{D}}\n",
    "$$\n",
    "If $\\lambda > \\frac{v^2}{4D}$, the discriminant is negative and $\\alpha$ is a pair of complex conjugate roots. "
   ]
  },
  {
   "cell_type": "markdown",
   "id": "5bbeda87-ac53-4179-a026-c3a11d55138d",
   "metadata": {},
   "source": [
    "#### Purely diffusive case\n",
    "It is instructive to first consider the case of $v=0$. In this case, $\\alpha = \\pm i \\sqrt{\\lambda/D}$ and\n",
    "$$\n",
    "f(x) = b \\sin(\\sqrt{\\lambda/D}x) + c \\cos(\\sqrt{\\lambda/D}x)\n",
    "$$\n",
    "Note that only certain values of $\\lambda$ are admissible given the boundary conditions. At a reflecting boundary, the derivative of $P(x,t)$ has to be zero at all times, while $P(x,t)$ has to vanish at an absorbing boundary. These conditions reduce the continuum of values for $\\lambda$ to a countable number. Without loss of generality, we can define our domain as starting at $x=0$ and extending to $x=L$.\n",
    "If the boundary at $x=0$ is absorbing ($f(0)=0$) we need $c=0$ ($b=0$ in the reflecting case). \n",
    "\n",
    "And absorbing boundary at $x=L$ would therefore require $f(L)=0$ for all values of $b$ and $c$ permitted by the boundary at $x=0$. If the boundary at $x=0$ is reflecting (only the $\\cos$ terms, $b=0$), a reflecting boundary at $x=L$ requires $\\cos(\\sqrt{\\lambda/D}L)=1$ and thus\n",
    "$$\n",
    "\\lambda_n = \\frac{D n^2 \\pi^2}{L^2} \\quad n=0, 1, \\ldots\n",
    "$$\n",
    "We therefore have a discretized spectrum of admissible time scales and a full solution\n",
    "$$\n",
    "P(x,t) = \\sum_n a_n e^{-\\lambda_n t} \\cos(\\sqrt{\\lambda_n/D}x)\n",
    "$$\n",
    "The coefficients $a_n$ are determined by the initial condition and correspond to the coefficients of the Fourier transform of the initial condition over the interval $0,L$.\n",
    "\n",
    "#### Example: step function initial condition \n",
    "\n",
    "Consider a situation where initially half the domain is filled at a level $p_0$. \n",
    "![image.png](figures/diffusion_initial.png)\n",
    "\n",
    "The fourier coefficients are \n",
    "$$\n",
    "a_n = \\frac{1}{L} \\int_0^L \\cos(n\\pi x/L) P(x,0) = \\frac{p_0}{L} \\int_0^{L/2} \\cos(n\\pi x/L) = \\begin{cases}\n",
    "\\frac{p_0}{2} & n=0 \\\\\n",
    "\\frac{2 p_0}{n\\pi}\\sin(n\\pi/2) & n>0\n",
    "\\end{cases}\n",
    "$$\n",
    "Note that the coefficients for $n>0$ are multiplied by 2 to account for negative $n$.\n",
    "We can approximate the function by including more and more terms. Note that at early times, this solution will not be very accurate because the initial rapid dynamics of solution depends on higher modes. "
   ]
  },
  {
   "cell_type": "code",
   "execution_count": 4,
   "id": "43468721-2e3f-4d78-89cc-45144887cf68",
   "metadata": {},
   "outputs": [
    {
     "data": {
      "text/plain": [
       "Text(0.5, 0, 'position')"
      ]
     },
     "execution_count": 4,
     "metadata": {},
     "output_type": "execute_result"
    },
    {
     "data": {
      "image/png": "[encoded data removed]",
      "text/plain": [
       "<Figure size 640x480 with 1 Axes>"
      ]
     },
     "metadata": {},
     "output_type": "display_data"
    }
   ],
   "source": [
    "import numpy as np\n",
    "import matplotlib.pyplot as plt\n",
    "\n",
    "L=5\n",
    "D=1\n",
    "def approx_solution(t, x, a_n, l_n):\n",
    "    return np.sum([a*np.exp(-l*t)*np.cos(np.sqrt(l/D)*x) for a,l in zip(a_n, l_n)], axis=0)\n",
    "\n",
    "n_modes = 10\n",
    "l_n = [(n*np.pi)**2*D/L**2 for n in range(n_modes)]\n",
    "a_n = [0.5] + [2*np.sin(n*np.pi/2)/np.pi/n for n in range(1,n_modes)]\n",
    "\n",
    "x_vals = np.linspace(0,L,101)\n",
    "\n",
    "plt.plot(x_vals, approx_solution(.1, x_vals, a_n, l_n))\n",
    "plt.xlabel('position')"
   ]
  },
  {
   "cell_type": "markdown",
   "id": "45cb5d09-20a5-40c9-a3a8-abc15016c740",
   "metadata": {},
   "source": [
    "### Position dependent hopping rates\n",
    "In the previous section, we considered hopping rates that are constant across the domain. In general, these hopping rates will vary and how exactly the continuous limit is taken can matter in surprising ways. \n",
    "$$\n",
    "\\frac{\\partial P(x|t)}{\\partial t} = r(x-\\delta x) P(x-\\delta x|t) + l(x+\\delta x) P(x+\\delta x|t) - (r(x) + l(x)) P(x|t)\n",
    "$$\n",
    "Expanding $r(x)P(x|t)$ and $l(x)P(x|t)$ in $x$, we obtain a similar equation as before, only that the diffusion coefficient and the drift velocity are inside the derivatives.\n",
    "$$\n",
    "\\frac{\\partial P(x|t)}{\\partial t} = \\frac{\\partial^2}{\\partial x^2} D(x) P(x|t) - \\frac{\\partial}{\\partial x} v(x)P(x|t)\n",
    "$$\n",
    "with\n",
    "$$\n",
    "D(x) = \\frac{r(x)+l(x)}{2}\\delta x^2 \\quad \\mathrm{and}\\quad v(x) = (r(x)-l(x))\\delta x\n",
    "$$\n",
    "\n",
    "Note that we have made a subtle but important assumption: The hopping rates are evaluated at the point of departure! If instead we had assumed that the hopping rates are evaluated mid-way between departure and destination, we would have arrived at a subtly different equation -- an effect that we will explore in greater detail below. "
   ]
  },
  {
   "cell_type": "markdown",
   "id": "8db421d4-dafa-4b57-8af1-56b210129629",
   "metadata": {},
   "source": [
    "### Exploration of position dependent diffusion constant\n",
    "\n",
    "If the diffusion constant depends on the position, even in absence of directed motion the equilibrium is not necessarily flat. Consider a simple example of a diffusion constant $D(x)=1+x$ (while supressing the units) and $v(x)=0$. At steady state, we have\n",
    "$$\n",
    " J = - \\frac{\\partial}{\\partial_x} D(x)P(x)\n",
    "$$\n",
    "which in case of a no-flux solution requires $D(x)P(x) =  C$. Hence $P(x)$ is inversely proportional to $D(x)$ in an equilibrium. \n",
    "\n",
    "This is indeed bourne out by numerical solution of the equation:\n"
   ]
  },
  {
   "cell_type": "code",
   "execution_count": 5,
   "id": "e7d11c1d-d637-4928-a4c4-9f34e7e295d4",
   "metadata": {},
   "outputs": [
    {
     "data": {
      "text/plain": [
       "Text(0.5, 0, 'position')"
      ]
     },
     "execution_count": 5,
     "metadata": {},
     "output_type": "execute_result"
    },
    {
     "data": {
      "image/png": "[encoded data removed]",
      "text/plain": [
       "<Figure size 640x480 with 1 Axes>"
      ]
     },
     "metadata": {},
     "output_type": "display_data"
    }
   ],
   "source": [
    "from scipy.integrate import odeint\n",
    "import numpy as np\n",
    "import matplotlib.pyplot as plt\n",
    "\n",
    "# Numerical solution of the discretized diffusion equation\n",
    "def dpdt(p, r, l, reflecting=True, flux=0):\n",
    "    dp = np.zeros_like(p)\n",
    "    dp[1:-1] += r[:-2]*p[:-2] - (r[1:-1] + l[1:-1])*p[1:-1] + l[2:]*p[2:]\n",
    "    # reflecting boundaries on both sides\n",
    "    if reflecting:\n",
    "        dp[0] += l[1]*p[1] - r[0]*p[0]\n",
    "        dp[-1] += r[-2]*p[-2] - l[-1]*p[-1]\n",
    "    else:\n",
    "        dp[0] += l[1]*p[1] - (r[0]+l[0])*p[0]\n",
    "        dp[-1] += r[-2]*p[-2] - (l[-1]+r[-1])*p[-1]\n",
    "\n",
    "    dp[0] += flux\n",
    "\n",
    "    return dp\n",
    "\n",
    "x = np.linspace(0,5,101)\n",
    "dx = x[1]-x[0]\n",
    "D = 1 + x*0.2  # position dependent diffusion constant\n",
    "p = np.zeros_like(x)\n",
    "p[x<1]=1\n",
    "T = np.linspace(0,10,10)\n",
    "r = D/dx**2\n",
    "\n",
    "dt = 0.0001\n",
    "tp = 1\n",
    "t=0\n",
    "plt.figure()\n",
    "while tp<len(T):\n",
    "    while t<T[tp]:\n",
    "        p += dt*dpdt(p,r,r, reflecting=True, flux=0)\n",
    "        t += dt\n",
    "    tp+=1\n",
    "    plt.plot(x,p)\n",
    "\n",
    "plt.plot(x, 0.3/D, lw=2, c='k')\n",
    "plt.ylabel(r\"$P(x,t)$\")\n",
    "plt.xlabel(\"position\")\n"
   ]
  },
  {
   "cell_type": "markdown",
   "id": "2ad83e63-8392-461e-9d6f-5aa3135659e5",
   "metadata": {},
   "source": [
    "## Zero current -- potential solution\n",
    "In a situation where we have zero net current at steady state, analogous to the detailed balance condition earlier, the Fokker-Planck equation reduces to a much simpler equation. In one dimension, we get:\n",
    "$$\n",
    "j(x) = 0 = - \\frac{\\partial}{\\partial x}D(x)  P(x) + v(x) P(x)\n",
    "$$\n",
    "This is solved by \n",
    "$$\n",
    "P(x) = \\frac{C}{D(x)} e^{\\int_0^x dx' \\; \\frac{v(x')}{D(x')}} \\, . \n",
    "$$\n",
    "If $v(x)$ arises as a force derived from a potential ($F \\sim U'(x)$), the velocity is proportional to the force and the inverse viscosity $\\eta(x)$ ($v(x) \\sim U'(x)/\\eta(x)$). In this case, we can establish a connection between the Boltzmann distribution and the steady state solution to the Fokker-Plank equation: \n",
    "$$\n",
    "P(x) = \\frac{C}{D(x)} e^{\\int_0^x dx' \\; \\alpha\\frac{U'(x')}{\\eta(x') D(x')}}  \\sim e^{-\\frac{U(x)}{kT}}\n",
    "$$\n",
    "where $\\alpha$ is the proportionality factor depending on the geometrical properties of the object subject to the force ($\\alpha = \\frac{1}{6\\pi r}$ for a shpere of radius $r$). \n",
    "For this equation to hold, diffusion coefficients $D(x)$ itself needs to be inversely proportional to the vicosity, which leads to the well known Stokes-Einstein relation for a spherical body:\n",
    "$$\n",
    "D = \\frac{kT}{6\\pi r \\eta}\n",
    "$$\n",
    "This relation is remarkable, as it establishes a connection between properties at the microscale (random motion due to thermal noise) and macroscale (viscosity of the medium). It is one example of a larger class of fluctuation dissipation theorems in statistical mechanics.\n"
   ]
  },
  {
   "cell_type": "markdown",
   "id": "8d0c3706-4847-4540-8c0f-0fc1f7d54716",
   "metadata": {},
   "source": [
    "### High-dimensional generalizations\n",
    "\n",
    "Most of the reasoning above generalizes naturally to many dimensions. We can write down a multi-dimensional Fokker-Planck equation\n",
    "$$\n",
    "\\frac{\\partial}{\\partial t} P(\\vec{x}, t)  = -\\sum_i\\frac{\\partial}{\\partial x_i} A_i(\\vec{x}) P(\\vec{x},t) + -\\frac{1}{2}\\sum_{ij}\\frac{\\partial^2}{\\partial x_i\\partial x_j} D_{ij}(\\vec{x}) P(\\vec{x},t)\n",
    "$$\n",
    "where $A_i$ is the generalization of the drift velocity $v$ and $D_{ij}$ is a symmetric matrix describing the diffusion processes (which does not need to be diagonal).\n",
    "The Green's function of this equation is a multi-dimensional Gaussian with covariance matrix $D_{ij}$.\n",
    "$$\n",
    "P(\\vec{x}, t| \\vec{y}) \\sim \\exp\\left[-\\frac{1}{2t}\\sum_{ij} (A_i t - (x_i-y_i))D_{ij}^{-1} (A_j t - (x_j-y_j))\\right]\n",
    "$$\n",
    "In a time interval $\\Delta t$, the state $\\vec{x}$ of the system thus changes from the initial one at $\\vec{y}$ by a deterministic component $A_i \\Delta t$, and a random component with covariance matrix $D_{ij} \\Delta t$. \n",
    "Since the symmetric matrix $D_{ij}$ can be expressed as a matrix product $D_{ij} = \\sum_k B_{ik}B_{kj}$, the random component can be understood as a displacement \n",
    "$$\n",
    "\\xi_i(t) = \\sqrt{\\Delta t}\\sum_k B_{ik}\\eta_k\n",
    "$$\n",
    "where $\\eta_k$ is a univariate Gaussian random variable with zero mean and unit variance. The matrix $B_{ik}$ can be thought of as a square root of $D_{ij}$. Note that this ``square root'' is not unique but only determined up to a rotation."
   ]
  },
  {
   "cell_type": "markdown",
   "id": "3864e703-6ce0-4b72-a7fa-c904951e9027",
   "metadata": {},
   "source": [
    "## Langevin equations\n",
    "An alternative way of tackling stochastic process in continuous space are stochastic differential equations (SDE). \n",
    "From dynamical systems, we are used to equations of the form \n",
    "$$\n",
    "\\frac{dx_i}{dt} = A_i(\\vec{x}; t)\n",
    "$$\n",
    "that describe the evolution of the state $\\vec{x} = \\{x_1, x_2, \\ldots, x_n\\}$. As such, this systems is Markovian: the evolution of the state of the system is fully determined by its current state and the time $t$. The functions $f_i$ describe the **deterministic** components of the motion, for example due to an external force.\n",
    "\n",
    "Generalizing this to **stochastic motion** comes with a number of mathematical subtleties. Following the intuition developed from the Green's function above, we can write a stochastic differential equation as \n",
    "$$\n",
    "d x_i =  A_i(\\vec{x}; t) dt + B_{ik}(\\vec{x},t) dW_k\n",
    "$$\n",
    "where each $dW_k$ is a so-called Wiener process. Such a Wiener process is nothing but a uni-variate diffusion process with a diffusion coefficient 1. The sample path of the Wiener process are continuous, but no-where differentiable. \n",
    "\n",
    "We will explore properties of such stochastic processes in one dimension only."
   ]
  },
  {
   "cell_type": "markdown",
   "id": "3b197d67-9b6c-4664-b9d8-ce2c88870d76",
   "metadata": {},
   "source": [
    "### Stochastic integrals (following Gardiner)\n",
    "In the notation above, it is implied that there should be a ``stochastic integral'' of the form\n",
    "$$\n",
    "\\int_0^t dW(t') f(t')\n",
    "$$\n",
    "for any function $f(t)$. However, this turn out to be a bit tricky. Consider as a function $f(t)$ the Wiener process $W(t)$ itself. Then, we would expect\n",
    "$$\n",
    "\\int_0^t dW(t') W(t') \\stackrel{?}{=} \\frac{1}{2}\\int_0^t d W^2(t') \\stackrel{?}{=} \\frac{1}{2}[W^2(t) - W^2(0)] \n",
    "$$\n",
    "But if we now start to approximate this integral as a sum of increments\n",
    "$$\n",
    "\\int_0^t dW(t') W(t') = \\sum_i W_i \\Delta W_i = \\sum_{i=1} W_i(\\tau_i) (W(t_{i}) - W(t_{i-1})\n",
    "$$\n",
    "we are left with a choice when to evaluate $W_i$, which I have called $\\tau_i$. When we now take the expectation value of the integral, remember that $\\langle W(t_1)W(t_2) \\rangle = \\min(t_1, t_2)$, and express $\\tau_i = t_{i-1} + \\alpha(t_i - t_{i-1})$, we have\n",
    "$$\n",
    "\\langle \\int_0^t dW(t') W(t') \\rangle = \\sum_i \\min(\\tau_i, t_{i}) - \\min(\\tau_i, t_{i-1}) = \\sum_i \\alpha (t_i - t_{i-1}) = \\alpha(t - t_0)\n",
    "$$\n",
    "While in normal infinitesimal limits, this oddity does not arise since increments are of order $\\Delta t$, for stochastic ODEs the increments are of order $\\sqrt{\\Delta t}$. \n",
    "As a result, the stochastic ODE is required a choice when the integrant is to be evaluated. The common choice is the beginning of the interval, i.e. $\\tau_i = t_{i-1}$ and this choice is known as the **Ito stochastic integral**. \n",
    "With a little bit more work, we can evaluate not just the expectation value of the integral, but the integral itself to obtain\n",
    "$$\n",
    "\\int_0^t dW(t') W(t') =\\frac{1}{2}\\left[W^2(t) - W^2(0) - (t-t_0) \\right]\n",
    "$$\n",
    "with an additional $\\frac{t-t_0}{2}$ that we didn't expect form ordinary rules of calculus. \n"
   ]
  },
  {
   "cell_type": "markdown",
   "id": "e0660684-ab3d-4c64-9cd4-2523266f1027",
   "metadata": {},
   "source": [
    "### Transformation of variables\n",
    "The scaling of the magnitude of the noise term with $dt$ generates a number of unexpected consequences with manipulating SDEs. Consider for example a change of variables from $x$ to $y(x)$. \n",
    "$$\n",
    "\\begin{split}\n",
    "dy(x) & = y(x+dx) - y(x) = y'\\times dx + \\frac{y''}{2} dx^2+\\cdots \\\\\n",
    "& = y'\\times (A(x) dt + B(x)dW(x)) + \\frac{y''}{2} B^2(x)dW^2 \n",
    "\\end{split}\n",
    "$$\n",
    "We had to keep second order terms $dW^2$ since $dW$ scales as $\\sqrt{dt}$ and $dW^2$ generates a terms with finite average $\\Delta t$ that now contributes to the deterministic drift term. The stochastic ODE for the now variable $y$ looks like\n",
    "$$\n",
    "dy(x) = (y'A(x) dt + \\frac{y''}{2} B^2(x)) dt +  y' B(x)dW(x)\n",
    "$$\n",
    "During the variable transformation, the we have generated an additional 'spurious' drift term that couples to the curvature $y''$ of the transformation. \n",
    "This transformation rule is known as Ito calculus. "
   ]
  },
  {
   "cell_type": "markdown",
   "id": "84358f2a-c303-409d-b753-5f3c712b1748",
   "metadata": {},
   "source": [
    "### Correspondance to Fokker-Planck equations\n",
    "With this Ito interpretation, the *stochastic differential equation* \n",
    "$$\n",
    "d x_i =  A_i(\\vec{x}; t) dt + B_{ik}(\\vec{x},t) dW_k\n",
    "$$\n",
    "corresponds to the Fokker-Planck equation\n",
    "$$\n",
    "\\frac{\\partial}{\\partial t} P(\\vec{x}, t)  = -\\sum_i\\frac{\\partial}{\\partial x_i} A_i(\\vec{x}) P(\\vec{x},t) + -\\frac{1}{2}\\sum_{ij}\\frac{\\partial^2}{\\partial x_i\\partial x_j} D_{ij}(\\vec{x}) P(\\vec{x},t)\n",
    "$$\n",
    "with $D_{ij} = \\sum_k B_{ik}B_{kj}$."
   ]
  },
  {
   "cell_type": "markdown",
   "id": "b21bb834-5679-4761-a6ef-8df2d2643ec9",
   "metadata": {},
   "source": [
    "### Stratonovic Stochastic differential equation\n",
    "An alternative interpretation of stochastic differential equations, known as Stratonovich interpretation, evaluates the integrant at the mid-point between $t_{i-1}$ and $t_i$, i.e. if $\\alpha=0.5$. \n",
    "In this case, the normal rules of calculus apply (working this out is a bit tedious). \n",
    "With the Stratonovic interpretation, the *stochastic differential equation* \n",
    "$$\n",
    "d x_i =  A_i(\\vec{x}; t) dt + B_{ik}(\\vec{x},t) dW_k\n",
    "$$\n",
    "corresponds to the Fokker-Planck equation\n",
    "$$\n",
    "\\frac{\\partial}{\\partial t} P(\\vec{x}, t)  = -\\sum_i\\frac{\\partial}{\\partial x_i} A_i(\\vec{x}) P(\\vec{x},t) + -\\frac{1}{2}\\sum_{ij}\\frac{\\partial}{\\partial x_i} B_{ik}(\\vec{x}) \\frac{\\partial}{\\partial x_j} B_{kj}(\\vec{x})  P(\\vec{x},t)\n",
    "$$\n",
    "with $D_{ij} = \\sum_k B_{ik}B_{kj}$.\n",
    "\n",
    "This Stratonovich interpretation where stochastic terms are evaluated at mid-point arises naturally when the stochastic term is a limit of a process with finite correlation time. \n",
    "The Ito interpretation is natural in scenarios like financial markets or population genetics (see below). \n",
    "\n",
    "**Ito and Stratonovic agree when the noise term is independent of value of the variable.**\n"
   ]
  },
  {
   "cell_type": "markdown",
   "id": "36c79f86-6d5e-4bd8-9e8f-a19683b8d67a",
   "metadata": {},
   "source": [
    "### Example of Wright-Fisher diffusion\n",
    "Stochastic processes and diffusion are not only important when tracking physical particles, but also describe dynamics of abstract quantities, for example the frequencies of a mutation in a population. \n",
    "The simplest such model in population genetics is the Wright-Fisher model. \n",
    "Assume two variants of an allele where one has a fitness benefit $s$ over the other. The average frequency of the allele in the next generation will then be\n",
    "$$\n",
    "\\langle x \\rangle = x + sx(1-x)\n",
    "$$\n",
    "where the $(1-x)$ factor accounts for the increasing mean fitness in the population. \n",
    "In the sample Wright Fisher model the variance of the allele frequency is given by \n",
    "$$\n",
    "\\langle \\delta x^2\\rangle = \\frac{x(1-x)}{N}\n",
    "$$\n",
    "where $N$ is the population size. \n",
    "The corresponding Langevin equation would be \n",
    "$$\n",
    "dx = sx(1-x) + \\sqrt{\\frac{x(1-x)}{N}}\\xi\n",
    "$$\n",
    "Which in turn corresponds to the diffusion equation\n",
    "$$\n",
    "\\frac{\\partial}{\\partial t}P(x,t) = \\frac{\\partial^2}{\\partial x^2} \\frac{x(1-x)}{2N}P(x,t) - s\\frac{\\partial}{\\partial x} x(1-x)P(x,t)\n",
    "$$\n"
   ]
  },
  {
   "cell_type": "markdown",
   "id": "0985c857-08f0-457b-b48c-b1cd5a2dbb0c",
   "metadata": {},
   "source": [
    "### Solution for a neutral allele\n",
    "\n",
    "If $s=0$, the Kimura equation can be solved exactly. As before, the key to the solution is an ansatz of the form $P(x,t) = f(x)g(t)$ which immediately decomposes the problem to $g(t) = e^{-\\lambda t}$ and \n",
    "$$\n",
    "-2N\\lambda f(x) = \\frac{\\partial^2}{\\partial x^2} x(1-x)f(x) = x(1-x)f''(x) - 2(2x-1)f'(x) - 2f(x)\n",
    "$$\n",
    "This ODE is known as hypergeometric equation. Both $x=0$ and $x=1$ act as absorbing boundaries. Since we the diffusivity also goes to 0 at these ends, we only need to require a finite value in this case. These conditions restrict the possible solution to what is called the Gegenbauer polynomials. \n",
    "Furthermore, the admissible values of $\\lambda$ are quantized as \n",
    "$$\n",
    "\\lambda = \\frac{i(i+1)}{N} \\quad i=0,1,2,\\ldots\n",
    "$$\n",
    "\n",
    "\n",
    "\n"
   ]
  },
  {
   "cell_type": "code",
   "execution_count": null,
   "id": "0f974ed7-14de-40fb-b7c5-f435a0f7873b",
   "metadata": {},
   "outputs": [],
   "source": []
  }
 ],
 "metadata": {
  "kernelspec": {
   "display_name": "Python 3 (ipykernel)",
   "language": "python",
   "name": "python3"
  },
  "language_info": {
   "codemirror_mode": {
    "name": "ipython",
    "version": 3
   },
   "file_extension": ".py",
   "mimetype": "text/x-python",
   "name": "python",
   "nbconvert_exporter": "python",
   "pygments_lexer": "ipython3",
   "version": "3.12.1"
  }
 },
 "nbformat": 4,
 "nbformat_minor": 5
}
